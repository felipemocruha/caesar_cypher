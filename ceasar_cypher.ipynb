{
 "cells": [
  {
   "cell_type": "code",
   "execution_count": 236,
   "metadata": {},
   "outputs": [],
   "source": [
    "from cytoolz import valfilter, concat\n",
    "from unicodedata import normalize"
   ]
  },
  {
   "cell_type": "code",
   "execution_count": 237,
   "metadata": {},
   "outputs": [],
   "source": [
    "letras = ['a', 'b', 'c', 'd', 'e', 'f', 'g', 'h', 'i', 'j', 'k', 'l', 'm', 'n', 'o', 'p', 'q', 'r', 's', 't', 'u', 'v', 'w', 'x', 'y', 'z', ' ']"
   ]
  },
  {
   "cell_type": "code",
   "execution_count": 238,
   "metadata": {},
   "outputs": [],
   "source": [
    "index = dict(zip(letras, range(27)))"
   ]
  },
  {
   "cell_type": "code",
   "execution_count": 239,
   "metadata": {},
   "outputs": [],
   "source": [
    "def letter_to_num(letter, index):\n",
    "    return index[letter]\n",
    "\n",
    "\n",
    "def num_to_letter(num, index):\n",
    "    mod_num = num % 27\n",
    "    return [*valfilter(lambda x: x == mod_num, index)]\n",
    "    \n",
    "    \n",
    "def apply_fn(fn, msg, delta, index):\n",
    "    numbers = [letter_to_num(msg_item, index) for msg_item in msg]\n",
    "    new_nums = [fn(num) for num in numbers]\n",
    "    return [num_to_letter(num, index) for num in new_nums]\n",
    " \n",
    "\n",
    "def cypher_message(msg, delta, index):\n",
    "    delta_fn = lambda x: x + delta\n",
    "    new_message = apply_fn(delta_fn, msg, delta, index)\n",
    "    return ''.join([*concat(new_message)])\n",
    "\n",
    "def decypher_message(msg, delta, index):\n",
    "    inv_fn = lambda x: x - delta\n",
    "    new_message = apply_fn(inv_fn, msg, delta, index)\n",
    "    return ''.join([*concat(new_message)])\n",
    "\n",
    "\n",
    "def sanitize_string(input_str):\n",
    "    replace_dict = {'\"': '', '.': '', ',': '', '(': '', ')': '', '-': '', 'ç': 'c', '\\n': '', '/': ''}\n",
    "    for k in replace_dict.keys():\n",
    "        input_str = input_str.replace(str(k), str(replace_dict[k]))\n",
    "    input_str = remove_accents(input_str)\n",
    "    input_str = input_str.lower()\n",
    "    return input_str\n",
    "\n",
    "\n",
    "def remove_accents(input_str):\n",
    "    return normalize('NFKD', input_str).encode('ascii', 'ignore').decode('utf-8')\n",
    "\n",
    "\n",
    "def get_frequencies(msg, index):\n",
    "    counter = [0 for x in range(28)]\n",
    "    for c in msg:\n",
    "        counter[letter_to_num(c, index)] += 1\n",
    "    return counter"
   ]
  },
  {
   "cell_type": "code",
   "execution_count": 240,
   "metadata": {},
   "outputs": [],
   "source": [
    "raw = '''\\\n",
    "O ministro Gilmar Mendes, do Supremo Tribunal Federal STF, mandou soltar nesta segunda-feira Adriana Ancelmo, mulher do ex-governador do Rio de Janeiro Sérgio Cabral (PMDB).\n",
    "\n",
    "Na mesma decisão, Gilmar Mendes substituiu a prisão preventiva por prisão domiciliar.\n",
    "\n",
    "Adriana Ancelmo foi presa pela primeira vez em dezembro do ano passado, no âmbito da Operação Calicute, um desdobramento da Lava Jato no Rio de Janeiro.\n",
    "\n",
    "Foi esta mesma operação que levou Sérgio Cabral à prisão.\n",
    "A ex-primeira-dama do Rio de Janeiro Adriana Ancelmo A ex-primeira-dama do Rio de Janeiro Adriana Ancelmo\n",
    "\n",
    "A ex-primeira-dama do Rio de Janeiro Adriana Ancelmo \n",
    "Até o mês passado, Adriana Ancelmo cumpria prisão domiciliar, mas, por decisão do Tribunal Regional Federal da  Região TRF, teve de retornar à cadeia.\n",
    "\n",
    "Em setembro deste ano, ela foi condenada a  anos e  meses de prisão pelo crime de lavagem dinheiro e por ser beneficiária do esquema de corrupção comandado por Sérgio Cabral.\n",
    "O ministro do STF Gilmar Mendes O ministro do STF Gilmar Mendes \n",
    "\n",
    "O ministro do STF Gilmar Mendes \n",
    "A decisão de Gilmar Mendes\n",
    "\n",
    "Ao analisar o pedido da defesa de Adriana Ancelmo, Gilmar Mendes argumentou que a prisão de mulheres grávidas ou com filhos sob os cuidados delas é \"absolutamente preocupante\".\n",
    "\n",
    "Por isso, argumentou o ministro, alternativas à prisão devem ser observadas a ponto de não haver \"punição excessiva\" à mulher ou à criança.\n",
    "\n",
    "\"No presente caso, a condição financeira privilegiada da paciente Adriana Ancelmo não pode ser usada em seu desfavor. Observo que o crime supostamente praticado pela paciente, muito embora grave, não envolve violência ou grave ameaça à pessoa. A paciente esteve por meses em prisão domiciliar, sem violar as regras estabelecidas pelo juízo. A sentença reconheceu a desnecessidade de um regime mais rigoroso\", escreveu o ministro.\n",
    "\n",
    "Gilmar Mendes acrescentou, em seguida, que Adriana Ancelmo tem condições de aguardar o julgamento dela pelo Superior Tribunal de Justiça (STJ) em prisão domiciliar, a menos que haja fatos novos.\n",
    "'''\n",
    "\n"
   ]
  },
  {
   "cell_type": "code",
   "execution_count": 241,
   "metadata": {},
   "outputs": [],
   "source": [
    "msg = sanitize_string(raw)\n",
    "cmsg = cypher_message(msg, 5, index)"
   ]
  },
  {
   "cell_type": "code",
   "execution_count": 244,
   "metadata": {},
   "outputs": [
    {
     "data": {
      "text/plain": [
       "{' ': 26,\n",
       " 'a': 0,\n",
       " 'b': 5,\n",
       " 'c': 0,\n",
       " 'd': 3,\n",
       " 'e': 311,\n",
       " 'f': 229,\n",
       " 'g': 19,\n",
       " 'h': 60,\n",
       " 'i': 101,\n",
       " 'j': 209,\n",
       " 'k': 17,\n",
       " 'l': 28,\n",
       " 'm': 8,\n",
       " 'n': 131,\n",
       " 'o': 11,\n",
       " 'p': 0,\n",
       " 'q': 56,\n",
       " 'r': 89,\n",
       " 's': 91,\n",
       " 't': 162,\n",
       " 'u': 49,\n",
       " 'v': 6,\n",
       " 'w': 133,\n",
       " 'x': 110,\n",
       " 'y': 54,\n",
       " 'z': 48}"
      ]
     },
     "execution_count": 244,
     "metadata": {},
     "output_type": "execute_result"
    }
   ],
   "source": [
    "frequencies = dict(zip(letras, get_frequencies(cmsg, index)))\n",
    "frequencies"
   ]
  },
  {
   "cell_type": "code",
   "execution_count": null,
   "metadata": {},
   "outputs": [],
   "source": []
  }
 ],
 "metadata": {
  "kernelspec": {
   "display_name": "Python 3",
   "language": "python",
   "name": "python3"
  },
  "language_info": {
   "codemirror_mode": {
    "name": "ipython",
    "version": 3
   },
   "file_extension": ".py",
   "mimetype": "text/x-python",
   "name": "python",
   "nbconvert_exporter": "python",
   "pygments_lexer": "ipython3",
   "version": "3.5.3"
  }
 },
 "nbformat": 4,
 "nbformat_minor": 2
}
